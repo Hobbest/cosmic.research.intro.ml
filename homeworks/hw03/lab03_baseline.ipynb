{
 "cells": [
  {
   "cell_type": "code",
   "execution_count": 1,
   "metadata": {},
   "outputs": [],
   "source": [
    "import numpy as np\n",
    "import pandas as pd\n",
    "import re\n",
    "import matplotlib.pyplot as plt"
   ]
  },
  {
   "cell_type": "markdown",
   "metadata": {},
   "source": [
    "Import the tables:"
   ]
  },
  {
   "cell_type": "code",
   "execution_count": 2,
   "metadata": {},
   "outputs": [],
   "source": [
    "train_db = pd.read_csv(\"train_db.csv\")\n",
    "test_db = pd.read_csv(\"test_db.csv\")"
   ]
  },
  {
   "cell_type": "code",
   "execution_count": 3,
   "metadata": {},
   "outputs": [
    {
     "name": "stdout",
     "output_type": "stream",
     "text": [
      "(327828, 103) (81958, 102)\n"
     ]
    }
   ],
   "source": [
    "print(train_db.shape, test_db.shape)"
   ]
  },
  {
   "cell_type": "markdown",
   "metadata": {},
   "source": [
    "Define id column and target column names:"
   ]
  },
  {
   "cell_type": "code",
   "execution_count": 4,
   "metadata": {},
   "outputs": [],
   "source": [
    "id_col = \"match_id\"\n",
    "target_col = \"radiant_win\""
   ]
  },
  {
   "cell_type": "markdown",
   "metadata": {},
   "source": [
    "Define player stats we will use as features:"
   ]
  },
  {
   "cell_type": "code",
   "execution_count": 5,
   "metadata": {},
   "outputs": [],
   "source": [
    "player_stat_columns = [\"xp\", \"gold\"]\n",
    "player_indexes = [str(i) for i in range(1, 6)]\n",
    "player_teams = [\"r\", \"d\"]"
   ]
  },
  {
   "cell_type": "code",
   "execution_count": 6,
   "metadata": {},
   "outputs": [
    {
     "name": "stdout",
     "output_type": "stream",
     "text": [
      "20\n",
      "['r1_xp', 'r1_gold', 'r2_xp', 'r2_gold', 'r3_xp', 'r3_gold', 'r4_xp', 'r4_gold', 'r5_xp', 'r5_gold']\n"
     ]
    }
   ],
   "source": [
    "all_players_columns = []\n",
    "for t in player_teams:\n",
    "    for pi in player_indexes:\n",
    "        for stat in player_stat_columns:\n",
    "            all_players_columns.append(t + pi + '_' + stat)\n",
    "            \n",
    "print(len(all_players_columns))\n",
    "print(all_players_columns[:10])"
   ]
  },
  {
   "cell_type": "code",
   "execution_count": 7,
   "metadata": {},
   "outputs": [],
   "source": [
    "upd_train_db = train_db[[id_col, target_col] + all_players_columns]\n",
    "upd_test_db = test_db[[id_col] + all_players_columns]"
   ]
  },
  {
   "cell_type": "markdown",
   "metadata": {},
   "source": [
    "Let's take a look what do we got in **hero_stats**:"
   ]
  },
  {
   "cell_type": "code",
   "execution_count": 8,
   "metadata": {},
   "outputs": [
    {
     "name": "stdout",
     "output_type": "stream",
     "text": [
      "(117, 29)\n"
     ]
    },
    {
     "data": {
      "text/html": [
       "<div>\n",
       "<style scoped>\n",
       "    .dataframe tbody tr th:only-of-type {\n",
       "        vertical-align: middle;\n",
       "    }\n",
       "\n",
       "    .dataframe tbody tr th {\n",
       "        vertical-align: top;\n",
       "    }\n",
       "\n",
       "    .dataframe thead th {\n",
       "        text-align: right;\n",
       "    }\n",
       "</style>\n",
       "<table border=\"1\" class=\"dataframe\">\n",
       "  <thead>\n",
       "    <tr style=\"text-align: right;\">\n",
       "      <th></th>\n",
       "      <th>id</th>\n",
       "      <th>name</th>\n",
       "      <th>localized_name</th>\n",
       "      <th>primary_attr</th>\n",
       "      <th>attack_type</th>\n",
       "      <th>roles</th>\n",
       "      <th>img</th>\n",
       "      <th>icon</th>\n",
       "      <th>base_health</th>\n",
       "      <th>base_health_regen</th>\n",
       "      <th>...</th>\n",
       "      <th>str_gain</th>\n",
       "      <th>agi_gain</th>\n",
       "      <th>int_gain</th>\n",
       "      <th>attack_range</th>\n",
       "      <th>projectile_speed</th>\n",
       "      <th>attack_rate</th>\n",
       "      <th>move_speed</th>\n",
       "      <th>turn_rate</th>\n",
       "      <th>cm_enabled</th>\n",
       "      <th>legs</th>\n",
       "    </tr>\n",
       "  </thead>\n",
       "  <tbody>\n",
       "    <tr>\n",
       "      <th>0</th>\n",
       "      <td>1</td>\n",
       "      <td>npc_dota_hero_antimage</td>\n",
       "      <td>Anti-Mage</td>\n",
       "      <td>agi</td>\n",
       "      <td>Melee</td>\n",
       "      <td>[Carry, Escape, Nuker]</td>\n",
       "      <td>/apps/dota2/images/heroes/antimage_full.png?</td>\n",
       "      <td>/apps/dota2/images/heroes/antimage_icon.png</td>\n",
       "      <td>200</td>\n",
       "      <td>0.25</td>\n",
       "      <td>...</td>\n",
       "      <td>1.3</td>\n",
       "      <td>3.2</td>\n",
       "      <td>1.8</td>\n",
       "      <td>150</td>\n",
       "      <td>0</td>\n",
       "      <td>1.4</td>\n",
       "      <td>310</td>\n",
       "      <td>0.5</td>\n",
       "      <td>True</td>\n",
       "      <td>2</td>\n",
       "    </tr>\n",
       "  </tbody>\n",
       "</table>\n",
       "<p>1 rows × 29 columns</p>\n",
       "</div>"
      ],
      "text/plain": [
       "  id                    name localized_name primary_attr attack_type  \\\n",
       "0  1  npc_dota_hero_antimage      Anti-Mage          agi       Melee   \n",
       "\n",
       "                    roles                                           img  \\\n",
       "0  [Carry, Escape, Nuker]  /apps/dota2/images/heroes/antimage_full.png?   \n",
       "\n",
       "                                          icon base_health base_health_regen  \\\n",
       "0  /apps/dota2/images/heroes/antimage_icon.png         200              0.25   \n",
       "\n",
       "   ... str_gain agi_gain int_gain attack_range projectile_speed attack_rate  \\\n",
       "0  ...      1.3      3.2      1.8          150                0         1.4   \n",
       "\n",
       "  move_speed turn_rate cm_enabled legs  \n",
       "0        310       0.5       True    2  \n",
       "\n",
       "[1 rows x 29 columns]"
      ]
     },
     "execution_count": 8,
     "metadata": {},
     "output_type": "execute_result"
    }
   ],
   "source": [
    "heroes_info = pd.read_json(\"hero_stats.json\").T.reset_index(drop=True)\n",
    "print(heroes_info.shape)\n",
    "heroes_info.head(1)"
   ]
  },
  {
   "cell_type": "markdown",
   "metadata": {},
   "source": [
    "Will ignore that for now :)"
   ]
  },
  {
   "cell_type": "code",
   "execution_count": 9,
   "metadata": {},
   "outputs": [
    {
     "data": {
      "text/html": [
       "<div>\n",
       "<style scoped>\n",
       "    .dataframe tbody tr th:only-of-type {\n",
       "        vertical-align: middle;\n",
       "    }\n",
       "\n",
       "    .dataframe tbody tr th {\n",
       "        vertical-align: top;\n",
       "    }\n",
       "\n",
       "    .dataframe thead th {\n",
       "        text-align: right;\n",
       "    }\n",
       "</style>\n",
       "<table border=\"1\" class=\"dataframe\">\n",
       "  <thead>\n",
       "    <tr style=\"text-align: right;\">\n",
       "      <th></th>\n",
       "      <th>match_id</th>\n",
       "      <th>radiant_win</th>\n",
       "      <th>r1_xp</th>\n",
       "      <th>r1_gold</th>\n",
       "      <th>r2_xp</th>\n",
       "      <th>r2_gold</th>\n",
       "      <th>r3_xp</th>\n",
       "      <th>r3_gold</th>\n",
       "      <th>r4_xp</th>\n",
       "      <th>r4_gold</th>\n",
       "      <th>...</th>\n",
       "      <th>d1_xp</th>\n",
       "      <th>d1_gold</th>\n",
       "      <th>d2_xp</th>\n",
       "      <th>d2_gold</th>\n",
       "      <th>d3_xp</th>\n",
       "      <th>d3_gold</th>\n",
       "      <th>d4_xp</th>\n",
       "      <th>d4_gold</th>\n",
       "      <th>d5_xp</th>\n",
       "      <th>d5_gold</th>\n",
       "    </tr>\n",
       "  </thead>\n",
       "  <tbody>\n",
       "    <tr>\n",
       "      <th>0</th>\n",
       "      <td>0.0</td>\n",
       "      <td>1</td>\n",
       "      <td>611.0</td>\n",
       "      <td>608.0</td>\n",
       "      <td>1900.0</td>\n",
       "      <td>1494.0</td>\n",
       "      <td>688.0</td>\n",
       "      <td>1219.0</td>\n",
       "      <td>1610.0</td>\n",
       "      <td>1869.0</td>\n",
       "      <td>...</td>\n",
       "      <td>773.0</td>\n",
       "      <td>629.0</td>\n",
       "      <td>1158.0</td>\n",
       "      <td>1056.0</td>\n",
       "      <td>889.0</td>\n",
       "      <td>1322.0</td>\n",
       "      <td>1245.0</td>\n",
       "      <td>1360.0</td>\n",
       "      <td>1924.0</td>\n",
       "      <td>1156.0</td>\n",
       "    </tr>\n",
       "    <tr>\n",
       "      <th>1</th>\n",
       "      <td>1.0</td>\n",
       "      <td>0</td>\n",
       "      <td>1911.0</td>\n",
       "      <td>1743.0</td>\n",
       "      <td>1242.0</td>\n",
       "      <td>1413.0</td>\n",
       "      <td>853.0</td>\n",
       "      <td>543.0</td>\n",
       "      <td>1537.0</td>\n",
       "      <td>953.0</td>\n",
       "      <td>...</td>\n",
       "      <td>984.0</td>\n",
       "      <td>760.0</td>\n",
       "      <td>1835.0</td>\n",
       "      <td>1674.0</td>\n",
       "      <td>1507.0</td>\n",
       "      <td>1282.0</td>\n",
       "      <td>1029.0</td>\n",
       "      <td>1135.0</td>\n",
       "      <td>1242.0</td>\n",
       "      <td>1022.0</td>\n",
       "    </tr>\n",
       "    <tr>\n",
       "      <th>2</th>\n",
       "      <td>2.0</td>\n",
       "      <td>0</td>\n",
       "      <td>886.0</td>\n",
       "      <td>1127.0</td>\n",
       "      <td>2290.0</td>\n",
       "      <td>2098.0</td>\n",
       "      <td>1150.0</td>\n",
       "      <td>1035.0</td>\n",
       "      <td>793.0</td>\n",
       "      <td>694.0</td>\n",
       "      <td>...</td>\n",
       "      <td>732.0</td>\n",
       "      <td>1035.0</td>\n",
       "      <td>1079.0</td>\n",
       "      <td>1103.0</td>\n",
       "      <td>1243.0</td>\n",
       "      <td>974.0</td>\n",
       "      <td>2097.0</td>\n",
       "      <td>1505.0</td>\n",
       "      <td>1919.0</td>\n",
       "      <td>1592.0</td>\n",
       "    </tr>\n",
       "    <tr>\n",
       "      <th>3</th>\n",
       "      <td>3.0</td>\n",
       "      <td>1</td>\n",
       "      <td>1539.0</td>\n",
       "      <td>669.0</td>\n",
       "      <td>2638.0</td>\n",
       "      <td>1750.0</td>\n",
       "      <td>1138.0</td>\n",
       "      <td>1202.0</td>\n",
       "      <td>836.0</td>\n",
       "      <td>1046.0</td>\n",
       "      <td>...</td>\n",
       "      <td>1177.0</td>\n",
       "      <td>1225.0</td>\n",
       "      <td>1250.0</td>\n",
       "      <td>1023.0</td>\n",
       "      <td>1398.0</td>\n",
       "      <td>788.0</td>\n",
       "      <td>903.0</td>\n",
       "      <td>876.0</td>\n",
       "      <td>788.0</td>\n",
       "      <td>932.0</td>\n",
       "    </tr>\n",
       "    <tr>\n",
       "      <th>4</th>\n",
       "      <td>4.0</td>\n",
       "      <td>1</td>\n",
       "      <td>1947.0</td>\n",
       "      <td>1378.0</td>\n",
       "      <td>494.0</td>\n",
       "      <td>541.0</td>\n",
       "      <td>951.0</td>\n",
       "      <td>989.0</td>\n",
       "      <td>1367.0</td>\n",
       "      <td>790.0</td>\n",
       "      <td>...</td>\n",
       "      <td>1398.0</td>\n",
       "      <td>620.0</td>\n",
       "      <td>1892.0</td>\n",
       "      <td>1157.0</td>\n",
       "      <td>896.0</td>\n",
       "      <td>551.0</td>\n",
       "      <td>1290.0</td>\n",
       "      <td>1116.0</td>\n",
       "      <td>862.0</td>\n",
       "      <td>1026.0</td>\n",
       "    </tr>\n",
       "    <tr>\n",
       "      <th>...</th>\n",
       "      <td>...</td>\n",
       "      <td>...</td>\n",
       "      <td>...</td>\n",
       "      <td>...</td>\n",
       "      <td>...</td>\n",
       "      <td>...</td>\n",
       "      <td>...</td>\n",
       "      <td>...</td>\n",
       "      <td>...</td>\n",
       "      <td>...</td>\n",
       "      <td>...</td>\n",
       "      <td>...</td>\n",
       "      <td>...</td>\n",
       "      <td>...</td>\n",
       "      <td>...</td>\n",
       "      <td>...</td>\n",
       "      <td>...</td>\n",
       "      <td>...</td>\n",
       "      <td>...</td>\n",
       "      <td>...</td>\n",
       "      <td>...</td>\n",
       "    </tr>\n",
       "    <tr>\n",
       "      <th>327823</th>\n",
       "      <td>409781.0</td>\n",
       "      <td>0</td>\n",
       "      <td>1144.0</td>\n",
       "      <td>1312.0</td>\n",
       "      <td>743.0</td>\n",
       "      <td>631.0</td>\n",
       "      <td>929.0</td>\n",
       "      <td>872.0</td>\n",
       "      <td>1973.0</td>\n",
       "      <td>1666.0</td>\n",
       "      <td>...</td>\n",
       "      <td>1633.0</td>\n",
       "      <td>1201.0</td>\n",
       "      <td>824.0</td>\n",
       "      <td>908.0</td>\n",
       "      <td>1067.0</td>\n",
       "      <td>1585.0</td>\n",
       "      <td>966.0</td>\n",
       "      <td>1019.0</td>\n",
       "      <td>2515.0</td>\n",
       "      <td>2179.0</td>\n",
       "    </tr>\n",
       "    <tr>\n",
       "      <th>327824</th>\n",
       "      <td>409782.0</td>\n",
       "      <td>1</td>\n",
       "      <td>1074.0</td>\n",
       "      <td>598.0</td>\n",
       "      <td>884.0</td>\n",
       "      <td>871.0</td>\n",
       "      <td>838.0</td>\n",
       "      <td>724.0</td>\n",
       "      <td>1612.0</td>\n",
       "      <td>1967.0</td>\n",
       "      <td>...</td>\n",
       "      <td>1320.0</td>\n",
       "      <td>749.0</td>\n",
       "      <td>1442.0</td>\n",
       "      <td>1206.0</td>\n",
       "      <td>1713.0</td>\n",
       "      <td>1797.0</td>\n",
       "      <td>635.0</td>\n",
       "      <td>841.0</td>\n",
       "      <td>346.0</td>\n",
       "      <td>756.0</td>\n",
       "    </tr>\n",
       "    <tr>\n",
       "      <th>327825</th>\n",
       "      <td>409783.0</td>\n",
       "      <td>1</td>\n",
       "      <td>1065.0</td>\n",
       "      <td>1451.0</td>\n",
       "      <td>1049.0</td>\n",
       "      <td>1113.0</td>\n",
       "      <td>1962.0</td>\n",
       "      <td>1289.0</td>\n",
       "      <td>1945.0</td>\n",
       "      <td>1723.0</td>\n",
       "      <td>...</td>\n",
       "      <td>1154.0</td>\n",
       "      <td>967.0</td>\n",
       "      <td>1625.0</td>\n",
       "      <td>1217.0</td>\n",
       "      <td>514.0</td>\n",
       "      <td>623.0</td>\n",
       "      <td>2110.0</td>\n",
       "      <td>1311.0</td>\n",
       "      <td>821.0</td>\n",
       "      <td>1067.0</td>\n",
       "    </tr>\n",
       "    <tr>\n",
       "      <th>327826</th>\n",
       "      <td>409784.0</td>\n",
       "      <td>1</td>\n",
       "      <td>1140.0</td>\n",
       "      <td>880.0</td>\n",
       "      <td>1228.0</td>\n",
       "      <td>1001.0</td>\n",
       "      <td>1190.0</td>\n",
       "      <td>1591.0</td>\n",
       "      <td>1693.0</td>\n",
       "      <td>1393.0</td>\n",
       "      <td>...</td>\n",
       "      <td>1873.0</td>\n",
       "      <td>1198.0</td>\n",
       "      <td>1457.0</td>\n",
       "      <td>970.0</td>\n",
       "      <td>899.0</td>\n",
       "      <td>1166.0</td>\n",
       "      <td>940.0</td>\n",
       "      <td>624.0</td>\n",
       "      <td>546.0</td>\n",
       "      <td>672.0</td>\n",
       "    </tr>\n",
       "    <tr>\n",
       "      <th>327827</th>\n",
       "      <td>409785.0</td>\n",
       "      <td>0</td>\n",
       "      <td>2190.0</td>\n",
       "      <td>1689.0</td>\n",
       "      <td>861.0</td>\n",
       "      <td>1357.0</td>\n",
       "      <td>1469.0</td>\n",
       "      <td>1297.0</td>\n",
       "      <td>1454.0</td>\n",
       "      <td>1367.0</td>\n",
       "      <td>...</td>\n",
       "      <td>797.0</td>\n",
       "      <td>1659.0</td>\n",
       "      <td>827.0</td>\n",
       "      <td>1031.0</td>\n",
       "      <td>683.0</td>\n",
       "      <td>1182.0</td>\n",
       "      <td>2037.0</td>\n",
       "      <td>1358.0</td>\n",
       "      <td>1357.0</td>\n",
       "      <td>871.0</td>\n",
       "    </tr>\n",
       "  </tbody>\n",
       "</table>\n",
       "<p>327828 rows × 22 columns</p>\n",
       "</div>"
      ],
      "text/plain": [
       "        match_id  radiant_win   r1_xp  r1_gold   r2_xp  r2_gold   r3_xp  \\\n",
       "0            0.0            1   611.0    608.0  1900.0   1494.0   688.0   \n",
       "1            1.0            0  1911.0   1743.0  1242.0   1413.0   853.0   \n",
       "2            2.0            0   886.0   1127.0  2290.0   2098.0  1150.0   \n",
       "3            3.0            1  1539.0    669.0  2638.0   1750.0  1138.0   \n",
       "4            4.0            1  1947.0   1378.0   494.0    541.0   951.0   \n",
       "...          ...          ...     ...      ...     ...      ...     ...   \n",
       "327823  409781.0            0  1144.0   1312.0   743.0    631.0   929.0   \n",
       "327824  409782.0            1  1074.0    598.0   884.0    871.0   838.0   \n",
       "327825  409783.0            1  1065.0   1451.0  1049.0   1113.0  1962.0   \n",
       "327826  409784.0            1  1140.0    880.0  1228.0   1001.0  1190.0   \n",
       "327827  409785.0            0  2190.0   1689.0   861.0   1357.0  1469.0   \n",
       "\n",
       "        r3_gold   r4_xp  r4_gold  ...   d1_xp  d1_gold   d2_xp  d2_gold  \\\n",
       "0        1219.0  1610.0   1869.0  ...   773.0    629.0  1158.0   1056.0   \n",
       "1         543.0  1537.0    953.0  ...   984.0    760.0  1835.0   1674.0   \n",
       "2        1035.0   793.0    694.0  ...   732.0   1035.0  1079.0   1103.0   \n",
       "3        1202.0   836.0   1046.0  ...  1177.0   1225.0  1250.0   1023.0   \n",
       "4         989.0  1367.0    790.0  ...  1398.0    620.0  1892.0   1157.0   \n",
       "...         ...     ...      ...  ...     ...      ...     ...      ...   \n",
       "327823    872.0  1973.0   1666.0  ...  1633.0   1201.0   824.0    908.0   \n",
       "327824    724.0  1612.0   1967.0  ...  1320.0    749.0  1442.0   1206.0   \n",
       "327825   1289.0  1945.0   1723.0  ...  1154.0    967.0  1625.0   1217.0   \n",
       "327826   1591.0  1693.0   1393.0  ...  1873.0   1198.0  1457.0    970.0   \n",
       "327827   1297.0  1454.0   1367.0  ...   797.0   1659.0   827.0   1031.0   \n",
       "\n",
       "         d3_xp  d3_gold   d4_xp  d4_gold   d5_xp  d5_gold  \n",
       "0        889.0   1322.0  1245.0   1360.0  1924.0   1156.0  \n",
       "1       1507.0   1282.0  1029.0   1135.0  1242.0   1022.0  \n",
       "2       1243.0    974.0  2097.0   1505.0  1919.0   1592.0  \n",
       "3       1398.0    788.0   903.0    876.0   788.0    932.0  \n",
       "4        896.0    551.0  1290.0   1116.0   862.0   1026.0  \n",
       "...        ...      ...     ...      ...     ...      ...  \n",
       "327823  1067.0   1585.0   966.0   1019.0  2515.0   2179.0  \n",
       "327824  1713.0   1797.0   635.0    841.0   346.0    756.0  \n",
       "327825   514.0    623.0  2110.0   1311.0   821.0   1067.0  \n",
       "327826   899.0   1166.0   940.0    624.0   546.0    672.0  \n",
       "327827   683.0   1182.0  2037.0   1358.0  1357.0    871.0  \n",
       "\n",
       "[327828 rows x 22 columns]"
      ]
     },
     "execution_count": 9,
     "metadata": {},
     "output_type": "execute_result"
    }
   ],
   "source": [
    "upd_train_db"
   ]
  },
  {
   "cell_type": "markdown",
   "metadata": {},
   "source": [
    "Prepare to sum all players gold and exp:"
   ]
  },
  {
   "cell_type": "code",
   "execution_count": 10,
   "metadata": {},
   "outputs": [],
   "source": [
    "columns_to_process = [\"xp\", \"gold\"]\n",
    "radiant_player_prefixes = [\"r\" + str(i) + \"_\" for i in range(1, 6)]\n",
    "dire_player_prefixes = [\"d\" + str(i) + \"_\" for i in range(1, 6)]"
   ]
  },
  {
   "cell_type": "code",
   "execution_count": 11,
   "metadata": {},
   "outputs": [],
   "source": [
    "upd_train_db = train_db[[id_col, target_col] + all_players_columns]\n",
    "upd_test_db = test_db[[id_col] + all_players_columns]"
   ]
  },
  {
   "cell_type": "markdown",
   "metadata": {},
   "source": [
    "Sum them and store as new features:"
   ]
  },
  {
   "cell_type": "code",
   "execution_count": 12,
   "metadata": {},
   "outputs": [],
   "source": [
    "used_columns = []\n",
    "pd.options.mode.chained_assignment = None\n",
    "\n",
    "for db in [upd_train_db, upd_test_db]:\n",
    "    for c in columns_to_process:\n",
    "        radiant_columns = [pr + c for pr in radiant_player_prefixes]\n",
    "        dire_columns = [pr + c for pr in dire_player_prefixes]\n",
    "        \n",
    "        db[\"r_\" + c + \"_sum\"] = db[radiant_columns].sum(axis=1)\n",
    "        db[\"d_\" + c + \"_sum\"] = db[dire_columns].sum(axis=1)\n",
    "\n",
    "        used_columns += radiant_columns + dire_columns\n",
    "\n",
    "\n",
    "    db.drop(columns=used_columns, inplace=True)"
   ]
  },
  {
   "cell_type": "markdown",
   "metadata": {},
   "source": [
    "Some small preprocessing:"
   ]
  },
  {
   "cell_type": "code",
   "execution_count": 13,
   "metadata": {},
   "outputs": [],
   "source": [
    "upd_train_db.fillna(0, inplace=True)\n",
    "upd_test_db.fillna(0, inplace=True)"
   ]
  },
  {
   "cell_type": "code",
   "execution_count": 14,
   "metadata": {},
   "outputs": [],
   "source": [
    "from sklearn.preprocessing import StandardScaler"
   ]
  },
  {
   "cell_type": "code",
   "execution_count": 15,
   "metadata": {},
   "outputs": [],
   "source": [
    "stsc = StandardScaler()"
   ]
  },
  {
   "cell_type": "code",
   "execution_count": 16,
   "metadata": {},
   "outputs": [],
   "source": [
    "X_train = upd_train_db.drop(columns=[target_col]).values\n",
    "Y_train = upd_train_db[target_col].values.reshape(-1)\n",
    "\n",
    "X_test = upd_test_db.values\n",
    "\n",
    "X_train = stsc.fit_transform(X_train)\n",
    "X_test = stsc.fit_transform(X_test)"
   ]
  },
  {
   "cell_type": "code",
   "execution_count": 17,
   "metadata": {},
   "outputs": [
    {
     "data": {
      "text/plain": [
       "((327828, 5), (81958, 5))"
      ]
     },
     "execution_count": 17,
     "metadata": {},
     "output_type": "execute_result"
    }
   ],
   "source": [
    "X_train.shape, X_test.shape"
   ]
  },
  {
   "cell_type": "markdown",
   "metadata": {},
   "source": [
    "Import the model and metrics:"
   ]
  },
  {
   "cell_type": "code",
   "execution_count": 18,
   "metadata": {},
   "outputs": [],
   "source": [
    "from sklearn.linear_model import LogisticRegression\n",
    "\n",
    "from sklearn.model_selection import cross_val_score\n",
    "from sklearn.metrics import roc_auc_score"
   ]
  },
  {
   "cell_type": "markdown",
   "metadata": {},
   "source": [
    "Estimate the score:"
   ]
  },
  {
   "cell_type": "code",
   "execution_count": 19,
   "metadata": {},
   "outputs": [
    {
     "name": "stdout",
     "output_type": "stream",
     "text": [
      "0.6510500360775561\n"
     ]
    }
   ],
   "source": [
    "lr = LogisticRegression(penalty=\"l2\", n_jobs=-1)\n",
    "\n",
    "print(np.mean(cross_val_score(lr, X_train, Y_train, cv=5, scoring='roc_auc', n_jobs=-1)))"
   ]
  },
  {
   "cell_type": "markdown",
   "metadata": {},
   "source": [
    "Train on the whole dataset:"
   ]
  },
  {
   "cell_type": "code",
   "execution_count": 20,
   "metadata": {},
   "outputs": [
    {
     "data": {
      "text/plain": [
       "LogisticRegression(n_jobs=-1)"
      ]
     },
     "execution_count": 20,
     "metadata": {},
     "output_type": "execute_result"
    }
   ],
   "source": [
    "lr.fit(X_train, Y_train)"
   ]
  },
  {
   "cell_type": "markdown",
   "metadata": {},
   "source": [
    "Make prediction and dump it to the file:"
   ]
  },
  {
   "cell_type": "code",
   "execution_count": 21,
   "metadata": {},
   "outputs": [],
   "source": [
    "predictions = lr.predict_proba(X_test)[:, 1]\n",
    "\n",
    "submit_file = upd_test_db[[id_col]].copy()\n",
    "submit_file.loc[:, target_col] = predictions\n",
    "submit_file.to_csv(\"baseline_submission.csv\", index=None)"
   ]
  },
  {
   "cell_type": "markdown",
   "metadata": {},
   "source": [
    "Upload the file to kaggle.com and observe the score."
   ]
  }
 ],
 "metadata": {
  "kernelspec": {
   "display_name": "Python 3",
   "language": "python",
   "name": "python3"
  },
  "language_info": {
   "codemirror_mode": {
    "name": "ipython",
    "version": 3
   },
   "file_extension": ".py",
   "mimetype": "text/x-python",
   "name": "python",
   "nbconvert_exporter": "python",
   "pygments_lexer": "ipython3",
   "version": "3.7.8"
  }
 },
 "nbformat": 4,
 "nbformat_minor": 4
}
